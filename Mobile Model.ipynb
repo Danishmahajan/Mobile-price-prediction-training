{
 "cells": [
  {
   "cell_type": "code",
   "execution_count": 1,
   "id": "7909f889",
   "metadata": {},
   "outputs": [],
   "source": [
    "import pandas as pd\n",
    "import numpy as np\n",
    "import matplotlib.pyplot as plt\n",
    "import seaborn as sns\n",
    "\n",
    "%matplotlib inline"
   ]
  },
  {
   "cell_type": "markdown",
   "id": "242e04ec",
   "metadata": {},
   "source": [
    "## Reading the Data"
   ]
  },
  {
   "cell_type": "code",
   "execution_count": 2,
   "id": "470f25ea",
   "metadata": {
    "scrolled": false
   },
   "outputs": [
    {
     "data": {
      "text/html": [
       "<div>\n",
       "<style scoped>\n",
       "    .dataframe tbody tr th:only-of-type {\n",
       "        vertical-align: middle;\n",
       "    }\n",
       "\n",
       "    .dataframe tbody tr th {\n",
       "        vertical-align: top;\n",
       "    }\n",
       "\n",
       "    .dataframe thead th {\n",
       "        text-align: right;\n",
       "    }\n",
       "</style>\n",
       "<table border=\"1\" class=\"dataframe\">\n",
       "  <thead>\n",
       "    <tr style=\"text-align: right;\">\n",
       "      <th></th>\n",
       "      <th>id</th>\n",
       "      <th>battery_power</th>\n",
       "      <th>blue</th>\n",
       "      <th>clock_speed</th>\n",
       "      <th>dual_sim</th>\n",
       "      <th>fc</th>\n",
       "      <th>four_g</th>\n",
       "      <th>int_memory</th>\n",
       "      <th>m_dep</th>\n",
       "      <th>mobile_wt</th>\n",
       "      <th>...</th>\n",
       "      <th>px_height</th>\n",
       "      <th>px_width</th>\n",
       "      <th>ram</th>\n",
       "      <th>sc_h</th>\n",
       "      <th>sc_w</th>\n",
       "      <th>talk_time</th>\n",
       "      <th>three_g</th>\n",
       "      <th>touch_screen</th>\n",
       "      <th>wifi</th>\n",
       "      <th>price_range</th>\n",
       "    </tr>\n",
       "  </thead>\n",
       "  <tbody>\n",
       "    <tr>\n",
       "      <th>0</th>\n",
       "      <td>0</td>\n",
       "      <td>742</td>\n",
       "      <td>0</td>\n",
       "      <td>2.2</td>\n",
       "      <td>1</td>\n",
       "      <td>4</td>\n",
       "      <td>0</td>\n",
       "      <td>56</td>\n",
       "      <td>0.2</td>\n",
       "      <td>190</td>\n",
       "      <td>...</td>\n",
       "      <td>577</td>\n",
       "      <td>1359</td>\n",
       "      <td>3557</td>\n",
       "      <td>16</td>\n",
       "      <td>11</td>\n",
       "      <td>12</td>\n",
       "      <td>0</td>\n",
       "      <td>1</td>\n",
       "      <td>1</td>\n",
       "      <td>3</td>\n",
       "    </tr>\n",
       "    <tr>\n",
       "      <th>1</th>\n",
       "      <td>1</td>\n",
       "      <td>1509</td>\n",
       "      <td>0</td>\n",
       "      <td>0.6</td>\n",
       "      <td>1</td>\n",
       "      <td>5</td>\n",
       "      <td>0</td>\n",
       "      <td>50</td>\n",
       "      <td>0.3</td>\n",
       "      <td>81</td>\n",
       "      <td>...</td>\n",
       "      <td>1010</td>\n",
       "      <td>1684</td>\n",
       "      <td>1540</td>\n",
       "      <td>12</td>\n",
       "      <td>8</td>\n",
       "      <td>3</td>\n",
       "      <td>1</td>\n",
       "      <td>1</td>\n",
       "      <td>0</td>\n",
       "      <td>1</td>\n",
       "    </tr>\n",
       "    <tr>\n",
       "      <th>2</th>\n",
       "      <td>2</td>\n",
       "      <td>641</td>\n",
       "      <td>1</td>\n",
       "      <td>1.1</td>\n",
       "      <td>0</td>\n",
       "      <td>0</td>\n",
       "      <td>1</td>\n",
       "      <td>7</td>\n",
       "      <td>0.9</td>\n",
       "      <td>192</td>\n",
       "      <td>...</td>\n",
       "      <td>417</td>\n",
       "      <td>759</td>\n",
       "      <td>3595</td>\n",
       "      <td>7</td>\n",
       "      <td>5</td>\n",
       "      <td>19</td>\n",
       "      <td>1</td>\n",
       "      <td>1</td>\n",
       "      <td>1</td>\n",
       "      <td>2</td>\n",
       "    </tr>\n",
       "    <tr>\n",
       "      <th>3</th>\n",
       "      <td>3</td>\n",
       "      <td>733</td>\n",
       "      <td>1</td>\n",
       "      <td>0.6</td>\n",
       "      <td>1</td>\n",
       "      <td>0</td>\n",
       "      <td>0</td>\n",
       "      <td>63</td>\n",
       "      <td>0.3</td>\n",
       "      <td>105</td>\n",
       "      <td>...</td>\n",
       "      <td>950</td>\n",
       "      <td>1739</td>\n",
       "      <td>984</td>\n",
       "      <td>17</td>\n",
       "      <td>4</td>\n",
       "      <td>9</td>\n",
       "      <td>1</td>\n",
       "      <td>0</td>\n",
       "      <td>1</td>\n",
       "      <td>0</td>\n",
       "    </tr>\n",
       "    <tr>\n",
       "      <th>4</th>\n",
       "      <td>4</td>\n",
       "      <td>1414</td>\n",
       "      <td>0</td>\n",
       "      <td>0.5</td>\n",
       "      <td>0</td>\n",
       "      <td>0</td>\n",
       "      <td>1</td>\n",
       "      <td>15</td>\n",
       "      <td>0.8</td>\n",
       "      <td>168</td>\n",
       "      <td>...</td>\n",
       "      <td>294</td>\n",
       "      <td>1233</td>\n",
       "      <td>1069</td>\n",
       "      <td>18</td>\n",
       "      <td>6</td>\n",
       "      <td>14</td>\n",
       "      <td>1</td>\n",
       "      <td>0</td>\n",
       "      <td>0</td>\n",
       "      <td>0</td>\n",
       "    </tr>\n",
       "    <tr>\n",
       "      <th>...</th>\n",
       "      <td>...</td>\n",
       "      <td>...</td>\n",
       "      <td>...</td>\n",
       "      <td>...</td>\n",
       "      <td>...</td>\n",
       "      <td>...</td>\n",
       "      <td>...</td>\n",
       "      <td>...</td>\n",
       "      <td>...</td>\n",
       "      <td>...</td>\n",
       "      <td>...</td>\n",
       "      <td>...</td>\n",
       "      <td>...</td>\n",
       "      <td>...</td>\n",
       "      <td>...</td>\n",
       "      <td>...</td>\n",
       "      <td>...</td>\n",
       "      <td>...</td>\n",
       "      <td>...</td>\n",
       "      <td>...</td>\n",
       "      <td>...</td>\n",
       "    </tr>\n",
       "    <tr>\n",
       "      <th>1795</th>\n",
       "      <td>1795</td>\n",
       "      <td>667</td>\n",
       "      <td>1</td>\n",
       "      <td>0.6</td>\n",
       "      <td>0</td>\n",
       "      <td>6</td>\n",
       "      <td>1</td>\n",
       "      <td>3</td>\n",
       "      <td>0.7</td>\n",
       "      <td>185</td>\n",
       "      <td>...</td>\n",
       "      <td>13</td>\n",
       "      <td>1463</td>\n",
       "      <td>2855</td>\n",
       "      <td>5</td>\n",
       "      <td>0</td>\n",
       "      <td>19</td>\n",
       "      <td>1</td>\n",
       "      <td>0</td>\n",
       "      <td>1</td>\n",
       "      <td>2</td>\n",
       "    </tr>\n",
       "    <tr>\n",
       "      <th>1796</th>\n",
       "      <td>1796</td>\n",
       "      <td>1595</td>\n",
       "      <td>1</td>\n",
       "      <td>2.6</td>\n",
       "      <td>0</td>\n",
       "      <td>7</td>\n",
       "      <td>0</td>\n",
       "      <td>12</td>\n",
       "      <td>0.3</td>\n",
       "      <td>121</td>\n",
       "      <td>...</td>\n",
       "      <td>344</td>\n",
       "      <td>655</td>\n",
       "      <td>3608</td>\n",
       "      <td>15</td>\n",
       "      <td>1</td>\n",
       "      <td>16</td>\n",
       "      <td>0</td>\n",
       "      <td>1</td>\n",
       "      <td>0</td>\n",
       "      <td>3</td>\n",
       "    </tr>\n",
       "    <tr>\n",
       "      <th>1797</th>\n",
       "      <td>1797</td>\n",
       "      <td>1641</td>\n",
       "      <td>0</td>\n",
       "      <td>1.1</td>\n",
       "      <td>0</td>\n",
       "      <td>6</td>\n",
       "      <td>0</td>\n",
       "      <td>48</td>\n",
       "      <td>0.7</td>\n",
       "      <td>97</td>\n",
       "      <td>...</td>\n",
       "      <td>224</td>\n",
       "      <td>1994</td>\n",
       "      <td>1695</td>\n",
       "      <td>13</td>\n",
       "      <td>6</td>\n",
       "      <td>17</td>\n",
       "      <td>1</td>\n",
       "      <td>0</td>\n",
       "      <td>1</td>\n",
       "      <td>2</td>\n",
       "    </tr>\n",
       "    <tr>\n",
       "      <th>1798</th>\n",
       "      <td>1798</td>\n",
       "      <td>1913</td>\n",
       "      <td>1</td>\n",
       "      <td>1.8</td>\n",
       "      <td>0</td>\n",
       "      <td>0</td>\n",
       "      <td>0</td>\n",
       "      <td>29</td>\n",
       "      <td>0.6</td>\n",
       "      <td>111</td>\n",
       "      <td>...</td>\n",
       "      <td>675</td>\n",
       "      <td>742</td>\n",
       "      <td>2023</td>\n",
       "      <td>17</td>\n",
       "      <td>13</td>\n",
       "      <td>8</td>\n",
       "      <td>1</td>\n",
       "      <td>1</td>\n",
       "      <td>0</td>\n",
       "      <td>2</td>\n",
       "    </tr>\n",
       "    <tr>\n",
       "      <th>1799</th>\n",
       "      <td>1799</td>\n",
       "      <td>1187</td>\n",
       "      <td>1</td>\n",
       "      <td>2.2</td>\n",
       "      <td>0</td>\n",
       "      <td>0</td>\n",
       "      <td>1</td>\n",
       "      <td>46</td>\n",
       "      <td>0.4</td>\n",
       "      <td>145</td>\n",
       "      <td>...</td>\n",
       "      <td>1173</td>\n",
       "      <td>1814</td>\n",
       "      <td>3917</td>\n",
       "      <td>13</td>\n",
       "      <td>11</td>\n",
       "      <td>8</td>\n",
       "      <td>1</td>\n",
       "      <td>0</td>\n",
       "      <td>1</td>\n",
       "      <td>3</td>\n",
       "    </tr>\n",
       "  </tbody>\n",
       "</table>\n",
       "<p>1800 rows × 22 columns</p>\n",
       "</div>"
      ],
      "text/plain": [
       "        id  battery_power  blue  clock_speed  dual_sim  fc  four_g  \\\n",
       "0        0            742     0          2.2         1   4       0   \n",
       "1        1           1509     0          0.6         1   5       0   \n",
       "2        2            641     1          1.1         0   0       1   \n",
       "3        3            733     1          0.6         1   0       0   \n",
       "4        4           1414     0          0.5         0   0       1   \n",
       "...    ...            ...   ...          ...       ...  ..     ...   \n",
       "1795  1795            667     1          0.6         0   6       1   \n",
       "1796  1796           1595     1          2.6         0   7       0   \n",
       "1797  1797           1641     0          1.1         0   6       0   \n",
       "1798  1798           1913     1          1.8         0   0       0   \n",
       "1799  1799           1187     1          2.2         0   0       1   \n",
       "\n",
       "      int_memory  m_dep  mobile_wt  ...  px_height  px_width   ram  sc_h  \\\n",
       "0             56    0.2        190  ...        577      1359  3557    16   \n",
       "1             50    0.3         81  ...       1010      1684  1540    12   \n",
       "2              7    0.9        192  ...        417       759  3595     7   \n",
       "3             63    0.3        105  ...        950      1739   984    17   \n",
       "4             15    0.8        168  ...        294      1233  1069    18   \n",
       "...          ...    ...        ...  ...        ...       ...   ...   ...   \n",
       "1795           3    0.7        185  ...         13      1463  2855     5   \n",
       "1796          12    0.3        121  ...        344       655  3608    15   \n",
       "1797          48    0.7         97  ...        224      1994  1695    13   \n",
       "1798          29    0.6        111  ...        675       742  2023    17   \n",
       "1799          46    0.4        145  ...       1173      1814  3917    13   \n",
       "\n",
       "      sc_w  talk_time  three_g  touch_screen  wifi  price_range  \n",
       "0       11         12        0             1     1            3  \n",
       "1        8          3        1             1     0            1  \n",
       "2        5         19        1             1     1            2  \n",
       "3        4          9        1             0     1            0  \n",
       "4        6         14        1             0     0            0  \n",
       "...    ...        ...      ...           ...   ...          ...  \n",
       "1795     0         19        1             0     1            2  \n",
       "1796     1         16        0             1     0            3  \n",
       "1797     6         17        1             0     1            2  \n",
       "1798    13          8        1             1     0            2  \n",
       "1799    11          8        1             0     1            3  \n",
       "\n",
       "[1800 rows x 22 columns]"
      ]
     },
     "execution_count": 2,
     "metadata": {},
     "output_type": "execute_result"
    }
   ],
   "source": [
    "df=pd.read_csv('mobile.csv')\n",
    "df"
   ]
  },
  {
   "cell_type": "code",
   "execution_count": 3,
   "id": "46914eec",
   "metadata": {},
   "outputs": [
    {
     "data": {
      "text/html": [
       "<div>\n",
       "<style scoped>\n",
       "    .dataframe tbody tr th:only-of-type {\n",
       "        vertical-align: middle;\n",
       "    }\n",
       "\n",
       "    .dataframe tbody tr th {\n",
       "        vertical-align: top;\n",
       "    }\n",
       "\n",
       "    .dataframe thead th {\n",
       "        text-align: right;\n",
       "    }\n",
       "</style>\n",
       "<table border=\"1\" class=\"dataframe\">\n",
       "  <thead>\n",
       "    <tr style=\"text-align: right;\">\n",
       "      <th></th>\n",
       "      <th>battery_power</th>\n",
       "      <th>blue</th>\n",
       "      <th>clock_speed</th>\n",
       "      <th>dual_sim</th>\n",
       "      <th>fc</th>\n",
       "      <th>four_g</th>\n",
       "      <th>int_memory</th>\n",
       "      <th>m_dep</th>\n",
       "      <th>mobile_wt</th>\n",
       "      <th>n_cores</th>\n",
       "      <th>...</th>\n",
       "      <th>px_height</th>\n",
       "      <th>px_width</th>\n",
       "      <th>ram</th>\n",
       "      <th>sc_h</th>\n",
       "      <th>sc_w</th>\n",
       "      <th>talk_time</th>\n",
       "      <th>three_g</th>\n",
       "      <th>touch_screen</th>\n",
       "      <th>wifi</th>\n",
       "      <th>price_range</th>\n",
       "    </tr>\n",
       "  </thead>\n",
       "  <tbody>\n",
       "    <tr>\n",
       "      <th>0</th>\n",
       "      <td>742</td>\n",
       "      <td>0</td>\n",
       "      <td>2.2</td>\n",
       "      <td>1</td>\n",
       "      <td>4</td>\n",
       "      <td>0</td>\n",
       "      <td>56</td>\n",
       "      <td>0.2</td>\n",
       "      <td>190</td>\n",
       "      <td>7</td>\n",
       "      <td>...</td>\n",
       "      <td>577</td>\n",
       "      <td>1359</td>\n",
       "      <td>3557</td>\n",
       "      <td>16</td>\n",
       "      <td>11</td>\n",
       "      <td>12</td>\n",
       "      <td>0</td>\n",
       "      <td>1</td>\n",
       "      <td>1</td>\n",
       "      <td>3</td>\n",
       "    </tr>\n",
       "    <tr>\n",
       "      <th>1</th>\n",
       "      <td>1509</td>\n",
       "      <td>0</td>\n",
       "      <td>0.6</td>\n",
       "      <td>1</td>\n",
       "      <td>5</td>\n",
       "      <td>0</td>\n",
       "      <td>50</td>\n",
       "      <td>0.3</td>\n",
       "      <td>81</td>\n",
       "      <td>4</td>\n",
       "      <td>...</td>\n",
       "      <td>1010</td>\n",
       "      <td>1684</td>\n",
       "      <td>1540</td>\n",
       "      <td>12</td>\n",
       "      <td>8</td>\n",
       "      <td>3</td>\n",
       "      <td>1</td>\n",
       "      <td>1</td>\n",
       "      <td>0</td>\n",
       "      <td>1</td>\n",
       "    </tr>\n",
       "    <tr>\n",
       "      <th>2</th>\n",
       "      <td>641</td>\n",
       "      <td>1</td>\n",
       "      <td>1.1</td>\n",
       "      <td>0</td>\n",
       "      <td>0</td>\n",
       "      <td>1</td>\n",
       "      <td>7</td>\n",
       "      <td>0.9</td>\n",
       "      <td>192</td>\n",
       "      <td>1</td>\n",
       "      <td>...</td>\n",
       "      <td>417</td>\n",
       "      <td>759</td>\n",
       "      <td>3595</td>\n",
       "      <td>7</td>\n",
       "      <td>5</td>\n",
       "      <td>19</td>\n",
       "      <td>1</td>\n",
       "      <td>1</td>\n",
       "      <td>1</td>\n",
       "      <td>2</td>\n",
       "    </tr>\n",
       "    <tr>\n",
       "      <th>3</th>\n",
       "      <td>733</td>\n",
       "      <td>1</td>\n",
       "      <td>0.6</td>\n",
       "      <td>1</td>\n",
       "      <td>0</td>\n",
       "      <td>0</td>\n",
       "      <td>63</td>\n",
       "      <td>0.3</td>\n",
       "      <td>105</td>\n",
       "      <td>7</td>\n",
       "      <td>...</td>\n",
       "      <td>950</td>\n",
       "      <td>1739</td>\n",
       "      <td>984</td>\n",
       "      <td>17</td>\n",
       "      <td>4</td>\n",
       "      <td>9</td>\n",
       "      <td>1</td>\n",
       "      <td>0</td>\n",
       "      <td>1</td>\n",
       "      <td>0</td>\n",
       "    </tr>\n",
       "    <tr>\n",
       "      <th>4</th>\n",
       "      <td>1414</td>\n",
       "      <td>0</td>\n",
       "      <td>0.5</td>\n",
       "      <td>0</td>\n",
       "      <td>0</td>\n",
       "      <td>1</td>\n",
       "      <td>15</td>\n",
       "      <td>0.8</td>\n",
       "      <td>168</td>\n",
       "      <td>2</td>\n",
       "      <td>...</td>\n",
       "      <td>294</td>\n",
       "      <td>1233</td>\n",
       "      <td>1069</td>\n",
       "      <td>18</td>\n",
       "      <td>6</td>\n",
       "      <td>14</td>\n",
       "      <td>1</td>\n",
       "      <td>0</td>\n",
       "      <td>0</td>\n",
       "      <td>0</td>\n",
       "    </tr>\n",
       "    <tr>\n",
       "      <th>...</th>\n",
       "      <td>...</td>\n",
       "      <td>...</td>\n",
       "      <td>...</td>\n",
       "      <td>...</td>\n",
       "      <td>...</td>\n",
       "      <td>...</td>\n",
       "      <td>...</td>\n",
       "      <td>...</td>\n",
       "      <td>...</td>\n",
       "      <td>...</td>\n",
       "      <td>...</td>\n",
       "      <td>...</td>\n",
       "      <td>...</td>\n",
       "      <td>...</td>\n",
       "      <td>...</td>\n",
       "      <td>...</td>\n",
       "      <td>...</td>\n",
       "      <td>...</td>\n",
       "      <td>...</td>\n",
       "      <td>...</td>\n",
       "      <td>...</td>\n",
       "    </tr>\n",
       "    <tr>\n",
       "      <th>1795</th>\n",
       "      <td>667</td>\n",
       "      <td>1</td>\n",
       "      <td>0.6</td>\n",
       "      <td>0</td>\n",
       "      <td>6</td>\n",
       "      <td>1</td>\n",
       "      <td>3</td>\n",
       "      <td>0.7</td>\n",
       "      <td>185</td>\n",
       "      <td>6</td>\n",
       "      <td>...</td>\n",
       "      <td>13</td>\n",
       "      <td>1463</td>\n",
       "      <td>2855</td>\n",
       "      <td>5</td>\n",
       "      <td>0</td>\n",
       "      <td>19</td>\n",
       "      <td>1</td>\n",
       "      <td>0</td>\n",
       "      <td>1</td>\n",
       "      <td>2</td>\n",
       "    </tr>\n",
       "    <tr>\n",
       "      <th>1796</th>\n",
       "      <td>1595</td>\n",
       "      <td>1</td>\n",
       "      <td>2.6</td>\n",
       "      <td>0</td>\n",
       "      <td>7</td>\n",
       "      <td>0</td>\n",
       "      <td>12</td>\n",
       "      <td>0.3</td>\n",
       "      <td>121</td>\n",
       "      <td>8</td>\n",
       "      <td>...</td>\n",
       "      <td>344</td>\n",
       "      <td>655</td>\n",
       "      <td>3608</td>\n",
       "      <td>15</td>\n",
       "      <td>1</td>\n",
       "      <td>16</td>\n",
       "      <td>0</td>\n",
       "      <td>1</td>\n",
       "      <td>0</td>\n",
       "      <td>3</td>\n",
       "    </tr>\n",
       "    <tr>\n",
       "      <th>1797</th>\n",
       "      <td>1641</td>\n",
       "      <td>0</td>\n",
       "      <td>1.1</td>\n",
       "      <td>0</td>\n",
       "      <td>6</td>\n",
       "      <td>0</td>\n",
       "      <td>48</td>\n",
       "      <td>0.7</td>\n",
       "      <td>97</td>\n",
       "      <td>8</td>\n",
       "      <td>...</td>\n",
       "      <td>224</td>\n",
       "      <td>1994</td>\n",
       "      <td>1695</td>\n",
       "      <td>13</td>\n",
       "      <td>6</td>\n",
       "      <td>17</td>\n",
       "      <td>1</td>\n",
       "      <td>0</td>\n",
       "      <td>1</td>\n",
       "      <td>2</td>\n",
       "    </tr>\n",
       "    <tr>\n",
       "      <th>1798</th>\n",
       "      <td>1913</td>\n",
       "      <td>1</td>\n",
       "      <td>1.8</td>\n",
       "      <td>0</td>\n",
       "      <td>0</td>\n",
       "      <td>0</td>\n",
       "      <td>29</td>\n",
       "      <td>0.6</td>\n",
       "      <td>111</td>\n",
       "      <td>5</td>\n",
       "      <td>...</td>\n",
       "      <td>675</td>\n",
       "      <td>742</td>\n",
       "      <td>2023</td>\n",
       "      <td>17</td>\n",
       "      <td>13</td>\n",
       "      <td>8</td>\n",
       "      <td>1</td>\n",
       "      <td>1</td>\n",
       "      <td>0</td>\n",
       "      <td>2</td>\n",
       "    </tr>\n",
       "    <tr>\n",
       "      <th>1799</th>\n",
       "      <td>1187</td>\n",
       "      <td>1</td>\n",
       "      <td>2.2</td>\n",
       "      <td>0</td>\n",
       "      <td>0</td>\n",
       "      <td>1</td>\n",
       "      <td>46</td>\n",
       "      <td>0.4</td>\n",
       "      <td>145</td>\n",
       "      <td>2</td>\n",
       "      <td>...</td>\n",
       "      <td>1173</td>\n",
       "      <td>1814</td>\n",
       "      <td>3917</td>\n",
       "      <td>13</td>\n",
       "      <td>11</td>\n",
       "      <td>8</td>\n",
       "      <td>1</td>\n",
       "      <td>0</td>\n",
       "      <td>1</td>\n",
       "      <td>3</td>\n",
       "    </tr>\n",
       "  </tbody>\n",
       "</table>\n",
       "<p>1800 rows × 21 columns</p>\n",
       "</div>"
      ],
      "text/plain": [
       "      battery_power  blue  clock_speed  dual_sim  fc  four_g  int_memory  \\\n",
       "0               742     0          2.2         1   4       0          56   \n",
       "1              1509     0          0.6         1   5       0          50   \n",
       "2               641     1          1.1         0   0       1           7   \n",
       "3               733     1          0.6         1   0       0          63   \n",
       "4              1414     0          0.5         0   0       1          15   \n",
       "...             ...   ...          ...       ...  ..     ...         ...   \n",
       "1795            667     1          0.6         0   6       1           3   \n",
       "1796           1595     1          2.6         0   7       0          12   \n",
       "1797           1641     0          1.1         0   6       0          48   \n",
       "1798           1913     1          1.8         0   0       0          29   \n",
       "1799           1187     1          2.2         0   0       1          46   \n",
       "\n",
       "      m_dep  mobile_wt  n_cores  ...  px_height  px_width   ram  sc_h  sc_w  \\\n",
       "0       0.2        190        7  ...        577      1359  3557    16    11   \n",
       "1       0.3         81        4  ...       1010      1684  1540    12     8   \n",
       "2       0.9        192        1  ...        417       759  3595     7     5   \n",
       "3       0.3        105        7  ...        950      1739   984    17     4   \n",
       "4       0.8        168        2  ...        294      1233  1069    18     6   \n",
       "...     ...        ...      ...  ...        ...       ...   ...   ...   ...   \n",
       "1795    0.7        185        6  ...         13      1463  2855     5     0   \n",
       "1796    0.3        121        8  ...        344       655  3608    15     1   \n",
       "1797    0.7         97        8  ...        224      1994  1695    13     6   \n",
       "1798    0.6        111        5  ...        675       742  2023    17    13   \n",
       "1799    0.4        145        2  ...       1173      1814  3917    13    11   \n",
       "\n",
       "      talk_time  three_g  touch_screen  wifi  price_range  \n",
       "0            12        0             1     1            3  \n",
       "1             3        1             1     0            1  \n",
       "2            19        1             1     1            2  \n",
       "3             9        1             0     1            0  \n",
       "4            14        1             0     0            0  \n",
       "...         ...      ...           ...   ...          ...  \n",
       "1795         19        1             0     1            2  \n",
       "1796         16        0             1     0            3  \n",
       "1797         17        1             0     1            2  \n",
       "1798          8        1             1     0            2  \n",
       "1799          8        1             0     1            3  \n",
       "\n",
       "[1800 rows x 21 columns]"
      ]
     },
     "execution_count": 3,
     "metadata": {},
     "output_type": "execute_result"
    }
   ],
   "source": [
    "df=df.drop('id',axis=1)\n",
    "df"
   ]
  },
  {
   "cell_type": "markdown",
   "id": "ee6b2858",
   "metadata": {},
   "source": [
    "### Data Analysis"
   ]
  },
  {
   "cell_type": "code",
   "execution_count": 4,
   "id": "6028eb39",
   "metadata": {
    "scrolled": true
   },
   "outputs": [
    {
     "data": {
      "text/plain": [
       "(1800, 21)"
      ]
     },
     "execution_count": 4,
     "metadata": {},
     "output_type": "execute_result"
    }
   ],
   "source": [
    "df.shape"
   ]
  },
  {
   "cell_type": "code",
   "execution_count": 5,
   "id": "034ac9fc",
   "metadata": {},
   "outputs": [
    {
     "data": {
      "text/html": [
       "<div>\n",
       "<style scoped>\n",
       "    .dataframe tbody tr th:only-of-type {\n",
       "        vertical-align: middle;\n",
       "    }\n",
       "\n",
       "    .dataframe tbody tr th {\n",
       "        vertical-align: top;\n",
       "    }\n",
       "\n",
       "    .dataframe thead th {\n",
       "        text-align: right;\n",
       "    }\n",
       "</style>\n",
       "<table border=\"1\" class=\"dataframe\">\n",
       "  <thead>\n",
       "    <tr style=\"text-align: right;\">\n",
       "      <th></th>\n",
       "      <th>battery_power</th>\n",
       "      <th>blue</th>\n",
       "      <th>clock_speed</th>\n",
       "      <th>dual_sim</th>\n",
       "      <th>fc</th>\n",
       "      <th>four_g</th>\n",
       "      <th>int_memory</th>\n",
       "      <th>m_dep</th>\n",
       "      <th>mobile_wt</th>\n",
       "      <th>n_cores</th>\n",
       "      <th>...</th>\n",
       "      <th>px_height</th>\n",
       "      <th>px_width</th>\n",
       "      <th>ram</th>\n",
       "      <th>sc_h</th>\n",
       "      <th>sc_w</th>\n",
       "      <th>talk_time</th>\n",
       "      <th>three_g</th>\n",
       "      <th>touch_screen</th>\n",
       "      <th>wifi</th>\n",
       "      <th>price_range</th>\n",
       "    </tr>\n",
       "  </thead>\n",
       "  <tbody>\n",
       "    <tr>\n",
       "      <th>count</th>\n",
       "      <td>1800.000000</td>\n",
       "      <td>1800.000000</td>\n",
       "      <td>1800.000000</td>\n",
       "      <td>1800.000000</td>\n",
       "      <td>1800.000000</td>\n",
       "      <td>1800.000000</td>\n",
       "      <td>1800.000000</td>\n",
       "      <td>1800.000000</td>\n",
       "      <td>1800.000000</td>\n",
       "      <td>1800.000000</td>\n",
       "      <td>...</td>\n",
       "      <td>1800.000000</td>\n",
       "      <td>1800.000000</td>\n",
       "      <td>1800.000000</td>\n",
       "      <td>1800.000000</td>\n",
       "      <td>1800.000000</td>\n",
       "      <td>1800.000000</td>\n",
       "      <td>1800.000000</td>\n",
       "      <td>1800.000000</td>\n",
       "      <td>1800.000000</td>\n",
       "      <td>1800.000000</td>\n",
       "    </tr>\n",
       "    <tr>\n",
       "      <th>mean</th>\n",
       "      <td>1238.982778</td>\n",
       "      <td>0.495000</td>\n",
       "      <td>1.522056</td>\n",
       "      <td>0.507222</td>\n",
       "      <td>4.302222</td>\n",
       "      <td>0.520000</td>\n",
       "      <td>32.056111</td>\n",
       "      <td>0.503278</td>\n",
       "      <td>140.018889</td>\n",
       "      <td>4.515000</td>\n",
       "      <td>...</td>\n",
       "      <td>643.624444</td>\n",
       "      <td>1252.277222</td>\n",
       "      <td>2128.907222</td>\n",
       "      <td>12.345000</td>\n",
       "      <td>5.817778</td>\n",
       "      <td>10.927778</td>\n",
       "      <td>0.762778</td>\n",
       "      <td>0.501667</td>\n",
       "      <td>0.506667</td>\n",
       "      <td>1.508333</td>\n",
       "    </tr>\n",
       "    <tr>\n",
       "      <th>std</th>\n",
       "      <td>440.375049</td>\n",
       "      <td>0.500114</td>\n",
       "      <td>0.817143</td>\n",
       "      <td>0.500087</td>\n",
       "      <td>4.348595</td>\n",
       "      <td>0.499739</td>\n",
       "      <td>18.272676</td>\n",
       "      <td>0.289343</td>\n",
       "      <td>35.456488</td>\n",
       "      <td>2.273857</td>\n",
       "      <td>...</td>\n",
       "      <td>444.701310</td>\n",
       "      <td>435.244925</td>\n",
       "      <td>1088.557359</td>\n",
       "      <td>4.200158</td>\n",
       "      <td>4.397194</td>\n",
       "      <td>5.463641</td>\n",
       "      <td>0.425498</td>\n",
       "      <td>0.500136</td>\n",
       "      <td>0.500094</td>\n",
       "      <td>1.119804</td>\n",
       "    </tr>\n",
       "    <tr>\n",
       "      <th>min</th>\n",
       "      <td>501.000000</td>\n",
       "      <td>0.000000</td>\n",
       "      <td>0.500000</td>\n",
       "      <td>0.000000</td>\n",
       "      <td>0.000000</td>\n",
       "      <td>0.000000</td>\n",
       "      <td>2.000000</td>\n",
       "      <td>0.100000</td>\n",
       "      <td>80.000000</td>\n",
       "      <td>1.000000</td>\n",
       "      <td>...</td>\n",
       "      <td>0.000000</td>\n",
       "      <td>500.000000</td>\n",
       "      <td>256.000000</td>\n",
       "      <td>5.000000</td>\n",
       "      <td>0.000000</td>\n",
       "      <td>2.000000</td>\n",
       "      <td>0.000000</td>\n",
       "      <td>0.000000</td>\n",
       "      <td>0.000000</td>\n",
       "      <td>0.000000</td>\n",
       "    </tr>\n",
       "    <tr>\n",
       "      <th>25%</th>\n",
       "      <td>848.000000</td>\n",
       "      <td>0.000000</td>\n",
       "      <td>0.700000</td>\n",
       "      <td>0.000000</td>\n",
       "      <td>1.000000</td>\n",
       "      <td>0.000000</td>\n",
       "      <td>16.000000</td>\n",
       "      <td>0.200000</td>\n",
       "      <td>109.000000</td>\n",
       "      <td>3.000000</td>\n",
       "      <td>...</td>\n",
       "      <td>278.000000</td>\n",
       "      <td>873.750000</td>\n",
       "      <td>1210.750000</td>\n",
       "      <td>9.000000</td>\n",
       "      <td>2.000000</td>\n",
       "      <td>6.000000</td>\n",
       "      <td>1.000000</td>\n",
       "      <td>0.000000</td>\n",
       "      <td>0.000000</td>\n",
       "      <td>1.000000</td>\n",
       "    </tr>\n",
       "    <tr>\n",
       "      <th>50%</th>\n",
       "      <td>1225.000000</td>\n",
       "      <td>0.000000</td>\n",
       "      <td>1.500000</td>\n",
       "      <td>1.000000</td>\n",
       "      <td>3.000000</td>\n",
       "      <td>1.000000</td>\n",
       "      <td>32.000000</td>\n",
       "      <td>0.500000</td>\n",
       "      <td>140.000000</td>\n",
       "      <td>4.000000</td>\n",
       "      <td>...</td>\n",
       "      <td>560.000000</td>\n",
       "      <td>1249.000000</td>\n",
       "      <td>2156.000000</td>\n",
       "      <td>12.000000</td>\n",
       "      <td>5.000000</td>\n",
       "      <td>11.000000</td>\n",
       "      <td>1.000000</td>\n",
       "      <td>1.000000</td>\n",
       "      <td>1.000000</td>\n",
       "      <td>2.000000</td>\n",
       "    </tr>\n",
       "    <tr>\n",
       "      <th>75%</th>\n",
       "      <td>1617.000000</td>\n",
       "      <td>1.000000</td>\n",
       "      <td>2.200000</td>\n",
       "      <td>1.000000</td>\n",
       "      <td>7.000000</td>\n",
       "      <td>1.000000</td>\n",
       "      <td>48.000000</td>\n",
       "      <td>0.800000</td>\n",
       "      <td>170.000000</td>\n",
       "      <td>7.000000</td>\n",
       "      <td>...</td>\n",
       "      <td>951.000000</td>\n",
       "      <td>1638.250000</td>\n",
       "      <td>3080.000000</td>\n",
       "      <td>16.000000</td>\n",
       "      <td>9.000000</td>\n",
       "      <td>16.000000</td>\n",
       "      <td>1.000000</td>\n",
       "      <td>1.000000</td>\n",
       "      <td>1.000000</td>\n",
       "      <td>3.000000</td>\n",
       "    </tr>\n",
       "    <tr>\n",
       "      <th>max</th>\n",
       "      <td>1997.000000</td>\n",
       "      <td>1.000000</td>\n",
       "      <td>3.000000</td>\n",
       "      <td>1.000000</td>\n",
       "      <td>19.000000</td>\n",
       "      <td>1.000000</td>\n",
       "      <td>64.000000</td>\n",
       "      <td>1.000000</td>\n",
       "      <td>200.000000</td>\n",
       "      <td>8.000000</td>\n",
       "      <td>...</td>\n",
       "      <td>1960.000000</td>\n",
       "      <td>1998.000000</td>\n",
       "      <td>3998.000000</td>\n",
       "      <td>19.000000</td>\n",
       "      <td>18.000000</td>\n",
       "      <td>20.000000</td>\n",
       "      <td>1.000000</td>\n",
       "      <td>1.000000</td>\n",
       "      <td>1.000000</td>\n",
       "      <td>3.000000</td>\n",
       "    </tr>\n",
       "  </tbody>\n",
       "</table>\n",
       "<p>8 rows × 21 columns</p>\n",
       "</div>"
      ],
      "text/plain": [
       "       battery_power         blue  clock_speed     dual_sim           fc  \\\n",
       "count    1800.000000  1800.000000  1800.000000  1800.000000  1800.000000   \n",
       "mean     1238.982778     0.495000     1.522056     0.507222     4.302222   \n",
       "std       440.375049     0.500114     0.817143     0.500087     4.348595   \n",
       "min       501.000000     0.000000     0.500000     0.000000     0.000000   \n",
       "25%       848.000000     0.000000     0.700000     0.000000     1.000000   \n",
       "50%      1225.000000     0.000000     1.500000     1.000000     3.000000   \n",
       "75%      1617.000000     1.000000     2.200000     1.000000     7.000000   \n",
       "max      1997.000000     1.000000     3.000000     1.000000    19.000000   \n",
       "\n",
       "            four_g   int_memory        m_dep    mobile_wt      n_cores  ...  \\\n",
       "count  1800.000000  1800.000000  1800.000000  1800.000000  1800.000000  ...   \n",
       "mean      0.520000    32.056111     0.503278   140.018889     4.515000  ...   \n",
       "std       0.499739    18.272676     0.289343    35.456488     2.273857  ...   \n",
       "min       0.000000     2.000000     0.100000    80.000000     1.000000  ...   \n",
       "25%       0.000000    16.000000     0.200000   109.000000     3.000000  ...   \n",
       "50%       1.000000    32.000000     0.500000   140.000000     4.000000  ...   \n",
       "75%       1.000000    48.000000     0.800000   170.000000     7.000000  ...   \n",
       "max       1.000000    64.000000     1.000000   200.000000     8.000000  ...   \n",
       "\n",
       "         px_height     px_width          ram         sc_h         sc_w  \\\n",
       "count  1800.000000  1800.000000  1800.000000  1800.000000  1800.000000   \n",
       "mean    643.624444  1252.277222  2128.907222    12.345000     5.817778   \n",
       "std     444.701310   435.244925  1088.557359     4.200158     4.397194   \n",
       "min       0.000000   500.000000   256.000000     5.000000     0.000000   \n",
       "25%     278.000000   873.750000  1210.750000     9.000000     2.000000   \n",
       "50%     560.000000  1249.000000  2156.000000    12.000000     5.000000   \n",
       "75%     951.000000  1638.250000  3080.000000    16.000000     9.000000   \n",
       "max    1960.000000  1998.000000  3998.000000    19.000000    18.000000   \n",
       "\n",
       "         talk_time      three_g  touch_screen         wifi  price_range  \n",
       "count  1800.000000  1800.000000   1800.000000  1800.000000  1800.000000  \n",
       "mean     10.927778     0.762778      0.501667     0.506667     1.508333  \n",
       "std       5.463641     0.425498      0.500136     0.500094     1.119804  \n",
       "min       2.000000     0.000000      0.000000     0.000000     0.000000  \n",
       "25%       6.000000     1.000000      0.000000     0.000000     1.000000  \n",
       "50%      11.000000     1.000000      1.000000     1.000000     2.000000  \n",
       "75%      16.000000     1.000000      1.000000     1.000000     3.000000  \n",
       "max      20.000000     1.000000      1.000000     1.000000     3.000000  \n",
       "\n",
       "[8 rows x 21 columns]"
      ]
     },
     "execution_count": 5,
     "metadata": {},
     "output_type": "execute_result"
    }
   ],
   "source": [
    "df.describe()"
   ]
  },
  {
   "cell_type": "code",
   "execution_count": 6,
   "id": "d664bc04",
   "metadata": {},
   "outputs": [
    {
     "name": "stdout",
     "output_type": "stream",
     "text": [
      "<class 'pandas.core.frame.DataFrame'>\n",
      "RangeIndex: 1800 entries, 0 to 1799\n",
      "Data columns (total 21 columns):\n",
      " #   Column         Non-Null Count  Dtype  \n",
      "---  ------         --------------  -----  \n",
      " 0   battery_power  1800 non-null   int64  \n",
      " 1   blue           1800 non-null   int64  \n",
      " 2   clock_speed    1800 non-null   float64\n",
      " 3   dual_sim       1800 non-null   int64  \n",
      " 4   fc             1800 non-null   int64  \n",
      " 5   four_g         1800 non-null   int64  \n",
      " 6   int_memory     1800 non-null   int64  \n",
      " 7   m_dep          1800 non-null   float64\n",
      " 8   mobile_wt      1800 non-null   int64  \n",
      " 9   n_cores        1800 non-null   int64  \n",
      " 10  pc             1800 non-null   int64  \n",
      " 11  px_height      1800 non-null   int64  \n",
      " 12  px_width       1800 non-null   int64  \n",
      " 13  ram            1800 non-null   int64  \n",
      " 14  sc_h           1800 non-null   int64  \n",
      " 15  sc_w           1800 non-null   int64  \n",
      " 16  talk_time      1800 non-null   int64  \n",
      " 17  three_g        1800 non-null   int64  \n",
      " 18  touch_screen   1800 non-null   int64  \n",
      " 19  wifi           1800 non-null   int64  \n",
      " 20  price_range    1800 non-null   int64  \n",
      "dtypes: float64(2), int64(19)\n",
      "memory usage: 295.4 KB\n"
     ]
    }
   ],
   "source": [
    "df.info()"
   ]
  },
  {
   "cell_type": "code",
   "execution_count": 7,
   "id": "7081dafc",
   "metadata": {},
   "outputs": [
    {
     "data": {
      "text/plain": [
       "battery_power    0\n",
       "blue             0\n",
       "clock_speed      0\n",
       "dual_sim         0\n",
       "fc               0\n",
       "four_g           0\n",
       "int_memory       0\n",
       "m_dep            0\n",
       "mobile_wt        0\n",
       "n_cores          0\n",
       "pc               0\n",
       "px_height        0\n",
       "px_width         0\n",
       "ram              0\n",
       "sc_h             0\n",
       "sc_w             0\n",
       "talk_time        0\n",
       "three_g          0\n",
       "touch_screen     0\n",
       "wifi             0\n",
       "price_range      0\n",
       "dtype: int64"
      ]
     },
     "execution_count": 7,
     "metadata": {},
     "output_type": "execute_result"
    }
   ],
   "source": [
    "df.isnull().sum()"
   ]
  },
  {
   "cell_type": "code",
   "execution_count": 8,
   "id": "d5957e05",
   "metadata": {},
   "outputs": [
    {
     "data": {
      "text/plain": [
       "<AxesSubplot:>"
      ]
     },
     "execution_count": 8,
     "metadata": {},
     "output_type": "execute_result"
    },
    {
     "data": {
      "image/png": "[encoded data removed]",
      "text/plain": [
       "<Figure size 432x288 with 2 Axes>"
      ]
     },
     "metadata": {
      "needs_background": "light"
     },
     "output_type": "display_data"
    }
   ],
   "source": [
    "sns.heatmap(df.isnull())"
   ]
  },
  {
   "cell_type": "code",
   "execution_count": 9,
   "id": "712da323",
   "metadata": {},
   "outputs": [
    {
     "data": {
      "text/plain": [
       "<AxesSubplot:>"
      ]
     },
     "execution_count": 9,
     "metadata": {},
     "output_type": "execute_result"
    },
    {
     "data": {
      "image/png": "[encoded data removed]",
      "text/plain": [
       "<Figure size 1008x1080 with 2 Axes>"
      ]
     },
     "metadata": {
      "needs_background": "light"
     },
     "output_type": "display_data"
    }
   ],
   "source": [
    "plt.figure(figsize=(14,15))\n",
    "sns.heatmap(df.corr(),annot=True)"
   ]
  },
  {
   "cell_type": "markdown",
   "id": "8b25129d",
   "metadata": {},
   "source": [
    "### Visualization"
   ]
  },
  {
   "cell_type": "markdown",
   "id": "e9f3113c",
   "metadata": {},
   "source": [
    "#### Plotting relation btw Price range and battery power"
   ]
  },
  {
   "cell_type": "code",
   "execution_count": 10,
   "id": "e9f5607f",
   "metadata": {},
   "outputs": [
    {
     "data": {
      "text/plain": [
       "<AxesSubplot:xlabel='price_range', ylabel='battery_power'>"
      ]
     },
     "execution_count": 10,
     "metadata": {},
     "output_type": "execute_result"
    },
    {
     "data": {
      "image/png": "[encoded data removed]",
      "text/plain": [
       "<Figure size 864x432 with 1 Axes>"
      ]
     },
     "metadata": {
      "needs_background": "light"
     },
     "output_type": "display_data"
    }
   ],
   "source": [
    "plt.figure(figsize=(12,6))\n",
    "sns.barplot(x=\"price_range\" ,y='battery_power',data=df)"
   ]
  },
  {
   "cell_type": "markdown",
   "id": "35f1dffc",
   "metadata": {},
   "source": [
    "#### Plotting relation btw Price range and Pixel Height and pixel Width"
   ]
  },
  {
   "cell_type": "code",
   "execution_count": 11,
   "id": "7f1c2a3f",
   "metadata": {},
   "outputs": [
    {
     "data": {
      "text/plain": [
       "<AxesSubplot:xlabel='price_range', ylabel='px_width'>"
      ]
     },
     "execution_count": 11,
     "metadata": {},
     "output_type": "execute_result"
    },
    {
     "data": {
      "image/png": "[encoded data removed]",
      "text/plain": [
       "<Figure size 1008x432 with 2 Axes>"
      ]
     },
     "metadata": {
      "needs_background": "light"
     },
     "output_type": "display_data"
    }
   ],
   "source": [
    "plt.figure(figsize=(14,6))\n",
    "plt.subplot(1,2,1)\n",
    "sns.barplot(x='price_range',y='px_height',data=df,palette='Reds')\n",
    "\n",
    "plt.subplot(1,2,2)\n",
    "sns.barplot(x='price_range',y='px_width',data=df,palette='Blues')"
   ]
  },
  {
   "cell_type": "markdown",
   "id": "938d653b",
   "metadata": {},
   "source": [
    "#### Plotting relation btw Price range and Ram "
   ]
  },
  {
   "cell_type": "code",
   "execution_count": 12,
   "id": "2d2937e4",
   "metadata": {},
   "outputs": [
    {
     "data": {
      "text/plain": [
       "<AxesSubplot:xlabel='price_range', ylabel='ram'>"
      ]
     },
     "execution_count": 12,
     "metadata": {},
     "output_type": "execute_result"
    },
    {
     "data": {
      "image/png": "[encoded data removed]",
      "text/plain": [
       "<Figure size 864x432 with 1 Axes>"
      ]
     },
     "metadata": {
      "needs_background": "light"
     },
     "output_type": "display_data"
    }
   ],
   "source": [
    "plt.figure(figsize=(12,6))\n",
    "sns.barplot(x=\"price_range\" ,y='ram',data=df)"
   ]
  },
  {
   "cell_type": "markdown",
   "id": "3057f266",
   "metadata": {},
   "source": [
    "#### Plotting relation btw Price range and 3G"
   ]
  },
  {
   "cell_type": "code",
   "execution_count": 13,
   "id": "aed507f1",
   "metadata": {},
   "outputs": [
    {
     "data": {
      "text/plain": [
       "<AxesSubplot:xlabel='three_g', ylabel='count'>"
      ]
     },
     "execution_count": 13,
     "metadata": {},
     "output_type": "execute_result"
    },
    {
     "data": {
      "image/png": "[encoded data removed]",
      "text/plain": [
       "<Figure size 864x432 with 1 Axes>"
      ]
     },
     "metadata": {
      "needs_background": "light"
     },
     "output_type": "display_data"
    }
   ],
   "source": [
    "plt.figure(figsize=(12,6))\n",
    "sns.countplot(x=df['three_g'],hue=df['price_range'],palette='Blues')"
   ]
  },
  {
   "cell_type": "markdown",
   "id": "fd821862",
   "metadata": {},
   "source": [
    "#### Plotting relation btw Price range and 4G"
   ]
  },
  {
   "cell_type": "code",
   "execution_count": 14,
   "id": "8ceb2f15",
   "metadata": {},
   "outputs": [
    {
     "data": {
      "text/plain": [
       "<AxesSubplot:xlabel='three_g', ylabel='count'>"
      ]
     },
     "execution_count": 14,
     "metadata": {},
     "output_type": "execute_result"
    },
    {
     "data": {
      "image/png": "[encoded data removed]",
      "text/plain": [
       "<Figure size 864x432 with 1 Axes>"
      ]
     },
     "metadata": {
      "needs_background": "light"
     },
     "output_type": "display_data"
    }
   ],
   "source": [
    "plt.figure(figsize=(12,6))\n",
    "sns.countplot(x=df['three_g'],hue=df['price_range'],palette='ocean')"
   ]
  },
  {
   "cell_type": "markdown",
   "id": "0b08e2f3",
   "metadata": {},
   "source": [
    "#### Plotting relation btw Price range and Memory"
   ]
  },
  {
   "cell_type": "code",
   "execution_count": 15,
   "id": "85b9d8f3",
   "metadata": {},
   "outputs": [
    {
     "data": {
      "text/plain": [
       "<AxesSubplot:xlabel='price_range', ylabel='int_memory'>"
      ]
     },
     "execution_count": 15,
     "metadata": {},
     "output_type": "execute_result"
    },
    {
     "data": {
      "image/png": "[encoded data removed]",
      "text/plain": [
       "<Figure size 864x432 with 1 Axes>"
      ]
     },
     "metadata": {
      "needs_background": "light"
     },
     "output_type": "display_data"
    }
   ],
   "source": [
    "plt.figure(figsize=(12,6))\n",
    "sns.lineplot(x='price_range',y='int_memory',data=df,hue='dual_sim')"
   ]
  },
  {
   "cell_type": "markdown",
   "id": "80bf9679",
   "metadata": {},
   "source": [
    "## Data Preprocessing"
   ]
  },
  {
   "cell_type": "code",
   "execution_count": 16,
   "id": "d5b1a363",
   "metadata": {},
   "outputs": [],
   "source": [
    "#Independent and dependent feature\n",
    "X=df.drop(['price_range'],axis=1)\n",
    "y=df['price_range']"
   ]
  },
  {
   "cell_type": "code",
   "execution_count": 17,
   "id": "1cb57fcc",
   "metadata": {},
   "outputs": [
    {
     "data": {
      "text/html": [
       "<div>\n",
       "<style scoped>\n",
       "    .dataframe tbody tr th:only-of-type {\n",
       "        vertical-align: middle;\n",
       "    }\n",
       "\n",
       "    .dataframe tbody tr th {\n",
       "        vertical-align: top;\n",
       "    }\n",
       "\n",
       "    .dataframe thead th {\n",
       "        text-align: right;\n",
       "    }\n",
       "</style>\n",
       "<table border=\"1\" class=\"dataframe\">\n",
       "  <thead>\n",
       "    <tr style=\"text-align: right;\">\n",
       "      <th></th>\n",
       "      <th>battery_power</th>\n",
       "      <th>blue</th>\n",
       "      <th>clock_speed</th>\n",
       "      <th>dual_sim</th>\n",
       "      <th>fc</th>\n",
       "      <th>four_g</th>\n",
       "      <th>int_memory</th>\n",
       "      <th>m_dep</th>\n",
       "      <th>mobile_wt</th>\n",
       "      <th>n_cores</th>\n",
       "      <th>pc</th>\n",
       "      <th>px_height</th>\n",
       "      <th>px_width</th>\n",
       "      <th>ram</th>\n",
       "      <th>sc_h</th>\n",
       "      <th>sc_w</th>\n",
       "      <th>talk_time</th>\n",
       "      <th>three_g</th>\n",
       "      <th>touch_screen</th>\n",
       "      <th>wifi</th>\n",
       "    </tr>\n",
       "  </thead>\n",
       "  <tbody>\n",
       "    <tr>\n",
       "      <th>0</th>\n",
       "      <td>742</td>\n",
       "      <td>0</td>\n",
       "      <td>2.2</td>\n",
       "      <td>1</td>\n",
       "      <td>4</td>\n",
       "      <td>0</td>\n",
       "      <td>56</td>\n",
       "      <td>0.2</td>\n",
       "      <td>190</td>\n",
       "      <td>7</td>\n",
       "      <td>14</td>\n",
       "      <td>577</td>\n",
       "      <td>1359</td>\n",
       "      <td>3557</td>\n",
       "      <td>16</td>\n",
       "      <td>11</td>\n",
       "      <td>12</td>\n",
       "      <td>0</td>\n",
       "      <td>1</td>\n",
       "      <td>1</td>\n",
       "    </tr>\n",
       "    <tr>\n",
       "      <th>1</th>\n",
       "      <td>1509</td>\n",
       "      <td>0</td>\n",
       "      <td>0.6</td>\n",
       "      <td>1</td>\n",
       "      <td>5</td>\n",
       "      <td>0</td>\n",
       "      <td>50</td>\n",
       "      <td>0.3</td>\n",
       "      <td>81</td>\n",
       "      <td>4</td>\n",
       "      <td>8</td>\n",
       "      <td>1010</td>\n",
       "      <td>1684</td>\n",
       "      <td>1540</td>\n",
       "      <td>12</td>\n",
       "      <td>8</td>\n",
       "      <td>3</td>\n",
       "      <td>1</td>\n",
       "      <td>1</td>\n",
       "      <td>0</td>\n",
       "    </tr>\n",
       "    <tr>\n",
       "      <th>2</th>\n",
       "      <td>641</td>\n",
       "      <td>1</td>\n",
       "      <td>1.1</td>\n",
       "      <td>0</td>\n",
       "      <td>0</td>\n",
       "      <td>1</td>\n",
       "      <td>7</td>\n",
       "      <td>0.9</td>\n",
       "      <td>192</td>\n",
       "      <td>1</td>\n",
       "      <td>3</td>\n",
       "      <td>417</td>\n",
       "      <td>759</td>\n",
       "      <td>3595</td>\n",
       "      <td>7</td>\n",
       "      <td>5</td>\n",
       "      <td>19</td>\n",
       "      <td>1</td>\n",
       "      <td>1</td>\n",
       "      <td>1</td>\n",
       "    </tr>\n",
       "    <tr>\n",
       "      <th>3</th>\n",
       "      <td>733</td>\n",
       "      <td>1</td>\n",
       "      <td>0.6</td>\n",
       "      <td>1</td>\n",
       "      <td>0</td>\n",
       "      <td>0</td>\n",
       "      <td>63</td>\n",
       "      <td>0.3</td>\n",
       "      <td>105</td>\n",
       "      <td>7</td>\n",
       "      <td>10</td>\n",
       "      <td>950</td>\n",
       "      <td>1739</td>\n",
       "      <td>984</td>\n",
       "      <td>17</td>\n",
       "      <td>4</td>\n",
       "      <td>9</td>\n",
       "      <td>1</td>\n",
       "      <td>0</td>\n",
       "      <td>1</td>\n",
       "    </tr>\n",
       "    <tr>\n",
       "      <th>4</th>\n",
       "      <td>1414</td>\n",
       "      <td>0</td>\n",
       "      <td>0.5</td>\n",
       "      <td>0</td>\n",
       "      <td>0</td>\n",
       "      <td>1</td>\n",
       "      <td>15</td>\n",
       "      <td>0.8</td>\n",
       "      <td>168</td>\n",
       "      <td>2</td>\n",
       "      <td>0</td>\n",
       "      <td>294</td>\n",
       "      <td>1233</td>\n",
       "      <td>1069</td>\n",
       "      <td>18</td>\n",
       "      <td>6</td>\n",
       "      <td>14</td>\n",
       "      <td>1</td>\n",
       "      <td>0</td>\n",
       "      <td>0</td>\n",
       "    </tr>\n",
       "    <tr>\n",
       "      <th>...</th>\n",
       "      <td>...</td>\n",
       "      <td>...</td>\n",
       "      <td>...</td>\n",
       "      <td>...</td>\n",
       "      <td>...</td>\n",
       "      <td>...</td>\n",
       "      <td>...</td>\n",
       "      <td>...</td>\n",
       "      <td>...</td>\n",
       "      <td>...</td>\n",
       "      <td>...</td>\n",
       "      <td>...</td>\n",
       "      <td>...</td>\n",
       "      <td>...</td>\n",
       "      <td>...</td>\n",
       "      <td>...</td>\n",
       "      <td>...</td>\n",
       "      <td>...</td>\n",
       "      <td>...</td>\n",
       "      <td>...</td>\n",
       "    </tr>\n",
       "    <tr>\n",
       "      <th>1795</th>\n",
       "      <td>667</td>\n",
       "      <td>1</td>\n",
       "      <td>0.6</td>\n",
       "      <td>0</td>\n",
       "      <td>6</td>\n",
       "      <td>1</td>\n",
       "      <td>3</td>\n",
       "      <td>0.7</td>\n",
       "      <td>185</td>\n",
       "      <td>6</td>\n",
       "      <td>13</td>\n",
       "      <td>13</td>\n",
       "      <td>1463</td>\n",
       "      <td>2855</td>\n",
       "      <td>5</td>\n",
       "      <td>0</td>\n",
       "      <td>19</td>\n",
       "      <td>1</td>\n",
       "      <td>0</td>\n",
       "      <td>1</td>\n",
       "    </tr>\n",
       "    <tr>\n",
       "      <th>1796</th>\n",
       "      <td>1595</td>\n",
       "      <td>1</td>\n",
       "      <td>2.6</td>\n",
       "      <td>0</td>\n",
       "      <td>7</td>\n",
       "      <td>0</td>\n",
       "      <td>12</td>\n",
       "      <td>0.3</td>\n",
       "      <td>121</td>\n",
       "      <td>8</td>\n",
       "      <td>19</td>\n",
       "      <td>344</td>\n",
       "      <td>655</td>\n",
       "      <td>3608</td>\n",
       "      <td>15</td>\n",
       "      <td>1</td>\n",
       "      <td>16</td>\n",
       "      <td>0</td>\n",
       "      <td>1</td>\n",
       "      <td>0</td>\n",
       "    </tr>\n",
       "    <tr>\n",
       "      <th>1797</th>\n",
       "      <td>1641</td>\n",
       "      <td>0</td>\n",
       "      <td>1.1</td>\n",
       "      <td>0</td>\n",
       "      <td>6</td>\n",
       "      <td>0</td>\n",
       "      <td>48</td>\n",
       "      <td>0.7</td>\n",
       "      <td>97</td>\n",
       "      <td>8</td>\n",
       "      <td>7</td>\n",
       "      <td>224</td>\n",
       "      <td>1994</td>\n",
       "      <td>1695</td>\n",
       "      <td>13</td>\n",
       "      <td>6</td>\n",
       "      <td>17</td>\n",
       "      <td>1</td>\n",
       "      <td>0</td>\n",
       "      <td>1</td>\n",
       "    </tr>\n",
       "    <tr>\n",
       "      <th>1798</th>\n",
       "      <td>1913</td>\n",
       "      <td>1</td>\n",
       "      <td>1.8</td>\n",
       "      <td>0</td>\n",
       "      <td>0</td>\n",
       "      <td>0</td>\n",
       "      <td>29</td>\n",
       "      <td>0.6</td>\n",
       "      <td>111</td>\n",
       "      <td>5</td>\n",
       "      <td>4</td>\n",
       "      <td>675</td>\n",
       "      <td>742</td>\n",
       "      <td>2023</td>\n",
       "      <td>17</td>\n",
       "      <td>13</td>\n",
       "      <td>8</td>\n",
       "      <td>1</td>\n",
       "      <td>1</td>\n",
       "      <td>0</td>\n",
       "    </tr>\n",
       "    <tr>\n",
       "      <th>1799</th>\n",
       "      <td>1187</td>\n",
       "      <td>1</td>\n",
       "      <td>2.2</td>\n",
       "      <td>0</td>\n",
       "      <td>0</td>\n",
       "      <td>1</td>\n",
       "      <td>46</td>\n",
       "      <td>0.4</td>\n",
       "      <td>145</td>\n",
       "      <td>2</td>\n",
       "      <td>9</td>\n",
       "      <td>1173</td>\n",
       "      <td>1814</td>\n",
       "      <td>3917</td>\n",
       "      <td>13</td>\n",
       "      <td>11</td>\n",
       "      <td>8</td>\n",
       "      <td>1</td>\n",
       "      <td>0</td>\n",
       "      <td>1</td>\n",
       "    </tr>\n",
       "  </tbody>\n",
       "</table>\n",
       "<p>1800 rows × 20 columns</p>\n",
       "</div>"
      ],
      "text/plain": [
       "      battery_power  blue  clock_speed  dual_sim  fc  four_g  int_memory  \\\n",
       "0               742     0          2.2         1   4       0          56   \n",
       "1              1509     0          0.6         1   5       0          50   \n",
       "2               641     1          1.1         0   0       1           7   \n",
       "3               733     1          0.6         1   0       0          63   \n",
       "4              1414     0          0.5         0   0       1          15   \n",
       "...             ...   ...          ...       ...  ..     ...         ...   \n",
       "1795            667     1          0.6         0   6       1           3   \n",
       "1796           1595     1          2.6         0   7       0          12   \n",
       "1797           1641     0          1.1         0   6       0          48   \n",
       "1798           1913     1          1.8         0   0       0          29   \n",
       "1799           1187     1          2.2         0   0       1          46   \n",
       "\n",
       "      m_dep  mobile_wt  n_cores  pc  px_height  px_width   ram  sc_h  sc_w  \\\n",
       "0       0.2        190        7  14        577      1359  3557    16    11   \n",
       "1       0.3         81        4   8       1010      1684  1540    12     8   \n",
       "2       0.9        192        1   3        417       759  3595     7     5   \n",
       "3       0.3        105        7  10        950      1739   984    17     4   \n",
       "4       0.8        168        2   0        294      1233  1069    18     6   \n",
       "...     ...        ...      ...  ..        ...       ...   ...   ...   ...   \n",
       "1795    0.7        185        6  13         13      1463  2855     5     0   \n",
       "1796    0.3        121        8  19        344       655  3608    15     1   \n",
       "1797    0.7         97        8   7        224      1994  1695    13     6   \n",
       "1798    0.6        111        5   4        675       742  2023    17    13   \n",
       "1799    0.4        145        2   9       1173      1814  3917    13    11   \n",
       "\n",
       "      talk_time  three_g  touch_screen  wifi  \n",
       "0            12        0             1     1  \n",
       "1             3        1             1     0  \n",
       "2            19        1             1     1  \n",
       "3             9        1             0     1  \n",
       "4            14        1             0     0  \n",
       "...         ...      ...           ...   ...  \n",
       "1795         19        1             0     1  \n",
       "1796         16        0             1     0  \n",
       "1797         17        1             0     1  \n",
       "1798          8        1             1     0  \n",
       "1799          8        1             0     1  \n",
       "\n",
       "[1800 rows x 20 columns]"
      ]
     },
     "execution_count": 17,
     "metadata": {},
     "output_type": "execute_result"
    }
   ],
   "source": [
    "X"
   ]
  },
  {
   "cell_type": "code",
   "execution_count": 18,
   "id": "ac482c80",
   "metadata": {},
   "outputs": [
    {
     "data": {
      "text/plain": [
       "0       3\n",
       "1       1\n",
       "2       2\n",
       "3       0\n",
       "4       0\n",
       "       ..\n",
       "1795    2\n",
       "1796    3\n",
       "1797    2\n",
       "1798    2\n",
       "1799    3\n",
       "Name: price_range, Length: 1800, dtype: int64"
      ]
     },
     "execution_count": 18,
     "metadata": {},
     "output_type": "execute_result"
    }
   ],
   "source": [
    "y"
   ]
  },
  {
   "cell_type": "markdown",
   "id": "d55b73e9",
   "metadata": {},
   "source": [
    "### feature selection"
   ]
  },
  {
   "cell_type": "code",
   "execution_count": 19,
   "id": "d22273f8",
   "metadata": {
    "scrolled": true
   },
   "outputs": [
    {
     "name": "stdout",
     "output_type": "stream",
     "text": [
      "        Features         Scores\n",
      "4            ram  842641.278323\n",
      "2      px_height   16347.008438\n",
      "0  battery_power   12266.368724\n",
      "3       px_width    8568.908228\n",
      "1     int_memory      96.829265\n"
     ]
    }
   ],
   "source": [
    "from sklearn.feature_selection import SelectKBest\n",
    "from sklearn.feature_selection import chi2\n",
    "ordered_rank_features_obj=SelectKBest(score_func=chi2,k=5) # Score function =chi2\n",
    "ordered_feature=ordered_rank_features_obj.fit(X,y)# Fitting the algo\n",
    "names = X.columns.values[ordered_feature.get_support()]\n",
    "scores =ordered_feature.scores_[ordered_feature.get_support()] # Geting the scores of that feature only they are in (get support) \n",
    "names_scores = list(zip(names, scores))#(Zip the both in 1 list)\n",
    "ns_df = pd.DataFrame(data = names_scores, columns=['Features', 'Scores'])\n",
    "ns_df_sorted = ns_df.sort_values(['Scores'], ascending = [False])\n",
    "print(ns_df_sorted)"
   ]
  },
  {
   "cell_type": "code",
   "execution_count": 20,
   "id": "3cb31d0e",
   "metadata": {},
   "outputs": [],
   "source": [
    "X=df[names]\n",
    "y=df['price_range']"
   ]
  },
  {
   "cell_type": "code",
   "execution_count": 21,
   "id": "c91fa5fc",
   "metadata": {},
   "outputs": [
    {
     "data": {
      "text/plain": [
       "3    457\n",
       "1    450\n",
       "2    447\n",
       "0    446\n",
       "Name: price_range, dtype: int64"
      ]
     },
     "execution_count": 21,
     "metadata": {},
     "output_type": "execute_result"
    }
   ],
   "source": [
    "y.value_counts()"
   ]
  },
  {
   "cell_type": "code",
   "execution_count": 22,
   "id": "0ca04523",
   "metadata": {},
   "outputs": [
    {
     "data": {
      "text/html": [
       "<div>\n",
       "<style scoped>\n",
       "    .dataframe tbody tr th:only-of-type {\n",
       "        vertical-align: middle;\n",
       "    }\n",
       "\n",
       "    .dataframe tbody tr th {\n",
       "        vertical-align: top;\n",
       "    }\n",
       "\n",
       "    .dataframe thead th {\n",
       "        text-align: right;\n",
       "    }\n",
       "</style>\n",
       "<table border=\"1\" class=\"dataframe\">\n",
       "  <thead>\n",
       "    <tr style=\"text-align: right;\">\n",
       "      <th></th>\n",
       "      <th>battery_power</th>\n",
       "      <th>int_memory</th>\n",
       "      <th>px_height</th>\n",
       "      <th>px_width</th>\n",
       "      <th>ram</th>\n",
       "    </tr>\n",
       "  </thead>\n",
       "  <tbody>\n",
       "    <tr>\n",
       "      <th>0</th>\n",
       "      <td>742</td>\n",
       "      <td>56</td>\n",
       "      <td>577</td>\n",
       "      <td>1359</td>\n",
       "      <td>3557</td>\n",
       "    </tr>\n",
       "    <tr>\n",
       "      <th>1</th>\n",
       "      <td>1509</td>\n",
       "      <td>50</td>\n",
       "      <td>1010</td>\n",
       "      <td>1684</td>\n",
       "      <td>1540</td>\n",
       "    </tr>\n",
       "    <tr>\n",
       "      <th>2</th>\n",
       "      <td>641</td>\n",
       "      <td>7</td>\n",
       "      <td>417</td>\n",
       "      <td>759</td>\n",
       "      <td>3595</td>\n",
       "    </tr>\n",
       "    <tr>\n",
       "      <th>3</th>\n",
       "      <td>733</td>\n",
       "      <td>63</td>\n",
       "      <td>950</td>\n",
       "      <td>1739</td>\n",
       "      <td>984</td>\n",
       "    </tr>\n",
       "    <tr>\n",
       "      <th>4</th>\n",
       "      <td>1414</td>\n",
       "      <td>15</td>\n",
       "      <td>294</td>\n",
       "      <td>1233</td>\n",
       "      <td>1069</td>\n",
       "    </tr>\n",
       "    <tr>\n",
       "      <th>...</th>\n",
       "      <td>...</td>\n",
       "      <td>...</td>\n",
       "      <td>...</td>\n",
       "      <td>...</td>\n",
       "      <td>...</td>\n",
       "    </tr>\n",
       "    <tr>\n",
       "      <th>1795</th>\n",
       "      <td>667</td>\n",
       "      <td>3</td>\n",
       "      <td>13</td>\n",
       "      <td>1463</td>\n",
       "      <td>2855</td>\n",
       "    </tr>\n",
       "    <tr>\n",
       "      <th>1796</th>\n",
       "      <td>1595</td>\n",
       "      <td>12</td>\n",
       "      <td>344</td>\n",
       "      <td>655</td>\n",
       "      <td>3608</td>\n",
       "    </tr>\n",
       "    <tr>\n",
       "      <th>1797</th>\n",
       "      <td>1641</td>\n",
       "      <td>48</td>\n",
       "      <td>224</td>\n",
       "      <td>1994</td>\n",
       "      <td>1695</td>\n",
       "    </tr>\n",
       "    <tr>\n",
       "      <th>1798</th>\n",
       "      <td>1913</td>\n",
       "      <td>29</td>\n",
       "      <td>675</td>\n",
       "      <td>742</td>\n",
       "      <td>2023</td>\n",
       "    </tr>\n",
       "    <tr>\n",
       "      <th>1799</th>\n",
       "      <td>1187</td>\n",
       "      <td>46</td>\n",
       "      <td>1173</td>\n",
       "      <td>1814</td>\n",
       "      <td>3917</td>\n",
       "    </tr>\n",
       "  </tbody>\n",
       "</table>\n",
       "<p>1800 rows × 5 columns</p>\n",
       "</div>"
      ],
      "text/plain": [
       "      battery_power  int_memory  px_height  px_width   ram\n",
       "0               742          56        577      1359  3557\n",
       "1              1509          50       1010      1684  1540\n",
       "2               641           7        417       759  3595\n",
       "3               733          63        950      1739   984\n",
       "4              1414          15        294      1233  1069\n",
       "...             ...         ...        ...       ...   ...\n",
       "1795            667           3         13      1463  2855\n",
       "1796           1595          12        344       655  3608\n",
       "1797           1641          48        224      1994  1695\n",
       "1798           1913          29        675       742  2023\n",
       "1799           1187          46       1173      1814  3917\n",
       "\n",
       "[1800 rows x 5 columns]"
      ]
     },
     "execution_count": 22,
     "metadata": {},
     "output_type": "execute_result"
    }
   ],
   "source": [
    "X"
   ]
  },
  {
   "cell_type": "code",
   "execution_count": 23,
   "id": "9e511463",
   "metadata": {},
   "outputs": [
    {
     "data": {
      "text/plain": [
       "0       3\n",
       "1       1\n",
       "2       2\n",
       "3       0\n",
       "4       0\n",
       "       ..\n",
       "1795    2\n",
       "1796    3\n",
       "1797    2\n",
       "1798    2\n",
       "1799    3\n",
       "Name: price_range, Length: 1800, dtype: int64"
      ]
     },
     "execution_count": 23,
     "metadata": {},
     "output_type": "execute_result"
    }
   ],
   "source": [
    "y"
   ]
  },
  {
   "cell_type": "code",
   "execution_count": 24,
   "id": "f0dc9cb0",
   "metadata": {},
   "outputs": [],
   "source": [
    "#Train and test splitting\n",
    "from sklearn.model_selection import train_test_split\n",
    "X_train,X_test,y_train,y_test=train_test_split(X,y,test_size=0.3,random_state=0)"
   ]
  },
  {
   "cell_type": "code",
   "execution_count": 25,
   "id": "dd370a61",
   "metadata": {},
   "outputs": [
    {
     "data": {
      "text/plain": [
       "1260"
      ]
     },
     "execution_count": 25,
     "metadata": {},
     "output_type": "execute_result"
    }
   ],
   "source": [
    "len(X_train)"
   ]
  },
  {
   "cell_type": "code",
   "execution_count": 26,
   "id": "4a281c1c",
   "metadata": {},
   "outputs": [
    {
     "data": {
      "text/plain": [
       "540"
      ]
     },
     "execution_count": 26,
     "metadata": {},
     "output_type": "execute_result"
    }
   ],
   "source": [
    "len(X_test)"
   ]
  },
  {
   "cell_type": "markdown",
   "id": "d5d0500c",
   "metadata": {},
   "source": [
    "# Logistic Regression"
   ]
  },
  {
   "cell_type": "code",
   "execution_count": 27,
   "id": "702f4bad",
   "metadata": {},
   "outputs": [],
   "source": [
    "from sklearn.linear_model import LogisticRegression"
   ]
  },
  {
   "cell_type": "code",
   "execution_count": 28,
   "id": "6a93d660",
   "metadata": {},
   "outputs": [
    {
     "data": {
      "text/plain": [
       "(540, 5)"
      ]
     },
     "execution_count": 28,
     "metadata": {},
     "output_type": "execute_result"
    }
   ],
   "source": [
    "X_test.shape"
   ]
  },
  {
   "cell_type": "code",
   "execution_count": 29,
   "id": "fa1fdaf3",
   "metadata": {},
   "outputs": [],
   "source": [
    "lg = LogisticRegression()"
   ]
  },
  {
   "cell_type": "code",
   "execution_count": 30,
   "id": "9fbd6fe3",
   "metadata": {},
   "outputs": [
    {
     "data": {
      "text/plain": [
       "(1260, 5)"
      ]
     },
     "execution_count": 30,
     "metadata": {},
     "output_type": "execute_result"
    }
   ],
   "source": [
    "X_train.shape"
   ]
  },
  {
   "cell_type": "code",
   "execution_count": 31,
   "id": "939371aa",
   "metadata": {},
   "outputs": [
    {
     "name": "stderr",
     "output_type": "stream",
     "text": [
      "c:\\new folder\\lib\\site-packages\\sklearn\\linear_model\\_logistic.py:763: ConvergenceWarning: lbfgs failed to converge (status=1):\n",
      "STOP: TOTAL NO. of ITERATIONS REACHED LIMIT.\n",
      "\n",
      "Increase the number of iterations (max_iter) or scale the data as shown in:\n",
      "    https://scikit-learn.org/stable/modules/preprocessing.html\n",
      "Please also refer to the documentation for alternative solver options:\n",
      "    https://scikit-learn.org/stable/modules/linear_model.html#logistic-regression\n",
      "  n_iter_i = _check_optimize_result(\n"
     ]
    },
    {
     "data": {
      "text/plain": [
       "LogisticRegression()"
      ]
     },
     "execution_count": 31,
     "metadata": {},
     "output_type": "execute_result"
    }
   ],
   "source": [
    "lg.fit(X_train,y_train)"
   ]
  },
  {
   "cell_type": "code",
   "execution_count": 32,
   "id": "dd1cd2fe",
   "metadata": {},
   "outputs": [
    {
     "data": {
      "text/plain": [
       "array([[ 8.01766294e-04,  3.71896131e-02, -1.10397407e-03,\n",
       "         1.98876303e-03, -2.61155253e-03],\n",
       "       [ 4.42390003e-04,  9.64083320e-03, -5.06503847e-05,\n",
       "         4.25143256e-04, -3.58111577e-04],\n",
       "       [-4.26758059e-04, -1.83235560e-02,  3.41162621e-04,\n",
       "        -6.79342572e-04,  1.12852561e-03],\n",
       "       [-8.17398238e-04, -2.85068903e-02,  8.13461832e-04,\n",
       "        -1.73456371e-03,  1.84113849e-03]])"
      ]
     },
     "execution_count": 32,
     "metadata": {},
     "output_type": "execute_result"
    }
   ],
   "source": [
    "lg.coef_"
   ]
  },
  {
   "cell_type": "code",
   "execution_count": 33,
   "id": "e8660804",
   "metadata": {},
   "outputs": [],
   "source": [
    "predict = lg.predict(X_test)"
   ]
  },
  {
   "cell_type": "code",
   "execution_count": 34,
   "id": "9a5da78e",
   "metadata": {},
   "outputs": [
    {
     "data": {
      "text/plain": [
       "array([1, 3, 1, 1, 3, 3, 2, 3, 0, 3, 0, 0, 1, 3, 3, 3, 3, 3, 3, 3, 1, 1,\n",
       "       2, 2, 2, 1, 0, 2, 0, 1, 3, 2, 2, 1, 1, 3, 1, 0, 0, 0, 0, 3, 0, 3,\n",
       "       0, 0, 3, 0, 3, 1, 0, 2, 1, 3, 3, 1, 0, 2, 3, 3, 1, 3, 2, 0, 3, 3,\n",
       "       1, 3, 1, 1, 0, 0, 3, 3, 3, 1, 0, 3, 1, 0, 0, 0, 3, 1, 2, 2, 2, 0,\n",
       "       2, 0, 3, 2, 1, 2, 3, 3, 3, 0, 3, 0, 0, 3, 2, 2, 3, 2, 0, 3, 1, 1,\n",
       "       1, 1, 1, 1, 1, 0, 0, 2, 0, 1, 3, 0, 3, 3, 3, 3, 2, 3, 2, 3, 1, 2,\n",
       "       0, 2, 3, 3, 2, 3, 3, 0, 3, 3, 3, 0, 1, 3, 0, 0, 1, 0, 3, 0, 0, 0,\n",
       "       1, 0, 1, 1, 3, 3, 3, 0, 0, 3, 1, 3, 1, 3, 3, 3, 1, 3, 1, 0, 1, 3,\n",
       "       1, 2, 0, 3, 1, 3, 2, 3, 1, 3, 3, 3, 0, 2, 3, 3, 1, 3, 3, 1, 2, 0,\n",
       "       1, 1, 0, 1, 3, 0, 3, 0, 1, 3, 1, 1, 3, 2, 0, 3, 1, 0, 0, 3, 3, 1,\n",
       "       1, 2, 3, 2, 0, 3, 0, 2, 0, 0, 1, 0, 2, 1, 1, 0, 3, 3, 1, 3, 3, 1,\n",
       "       0, 2, 3, 0, 1, 3, 1, 0, 0, 1, 3, 2, 0, 0, 0, 3, 2, 0, 0, 3, 3, 3,\n",
       "       3, 3, 3, 0, 3, 2, 3, 3, 3, 0, 0, 3, 3, 0, 2, 1, 0, 1, 3, 1, 3, 3,\n",
       "       3, 0, 1, 1, 0, 1, 0, 2, 0, 3, 3, 3, 0, 1, 1, 1, 3, 2, 3, 0, 3, 1,\n",
       "       0, 3, 0, 3, 0, 3, 3, 1, 3, 3, 2, 3, 1, 3, 0, 2, 3, 3, 3, 1, 3, 2,\n",
       "       3, 0, 2, 0, 3, 1, 3, 1, 3, 2, 3, 3, 1, 3, 3, 1, 3, 0, 3, 3, 3, 3,\n",
       "       0, 3, 0, 3, 1, 0, 1, 3, 3, 3, 0, 3, 2, 0, 0, 2, 2, 0, 0, 3, 2, 3,\n",
       "       3, 2, 2, 1, 3, 3, 1, 2, 3, 0, 2, 3, 0, 3, 3, 0, 3, 3, 1, 3, 2, 0,\n",
       "       0, 0, 3, 3, 2, 3, 0, 0, 1, 3, 0, 1, 3, 3, 3, 1, 1, 3, 3, 0, 1, 3,\n",
       "       3, 1, 1, 3, 1, 1, 1, 3, 3, 1, 1, 2, 2, 2, 3, 2, 3, 1, 0, 1, 3, 2,\n",
       "       0, 1, 1, 1, 1, 3, 0, 3, 0, 3, 3, 1, 3, 1, 1, 2, 0, 3, 0, 0, 2, 3,\n",
       "       0, 0, 0, 1, 2, 3, 0, 2, 1, 0, 0, 3, 1, 1, 1, 1, 1, 0, 1, 0, 1, 0,\n",
       "       0, 3, 3, 1, 0, 1, 1, 0, 3, 3, 2, 2, 0, 0, 3, 3, 0, 1, 1, 1, 3, 1,\n",
       "       0, 0, 3, 3, 3, 2, 0, 1, 3, 3, 3, 2, 3, 0, 3, 3, 2, 1, 0, 3, 2, 3,\n",
       "       1, 1, 3, 0, 3, 0, 0, 3, 3, 0, 1, 3], dtype=int64)"
      ]
     },
     "execution_count": 34,
     "metadata": {},
     "output_type": "execute_result"
    }
   ],
   "source": [
    "predict"
   ]
  },
  {
   "cell_type": "code",
   "execution_count": 35,
   "id": "eb3eddd8",
   "metadata": {},
   "outputs": [],
   "source": [
    "from sklearn import metrics"
   ]
  },
  {
   "cell_type": "code",
   "execution_count": 36,
   "id": "1fec4545",
   "metadata": {},
   "outputs": [
    {
     "name": "stdout",
     "output_type": "stream",
     "text": [
      "              precision    recall  f1-score   support\n",
      "\n",
      "           0       0.72      0.74      0.73       132\n",
      "           1       0.45      0.40      0.42       144\n",
      "           2       0.32      0.17      0.22       138\n",
      "           3       0.44      0.72      0.55       126\n",
      "\n",
      "    accuracy                           0.50       540\n",
      "   macro avg       0.48      0.51      0.48       540\n",
      "weighted avg       0.48      0.50      0.48       540\n",
      "\n"
     ]
    }
   ],
   "source": [
    "print(metrics.classification_report(y_test , predict))"
   ]
  },
  {
   "cell_type": "markdown",
   "id": "2e442290",
   "metadata": {},
   "source": [
    "# KNN algo :"
   ]
  },
  {
   "cell_type": "code",
   "execution_count": 43,
   "id": "11c7dc5d",
   "metadata": {},
   "outputs": [],
   "source": [
    "from sklearn.neighbors import KNeighborsClassifier"
   ]
  },
  {
   "cell_type": "code",
   "execution_count": 44,
   "id": "7c90aff0",
   "metadata": {},
   "outputs": [],
   "source": [
    "knn = KNeighborsClassifier(n_neighbors =11)"
   ]
  },
  {
   "cell_type": "code",
   "execution_count": 45,
   "id": "a30764b8",
   "metadata": {},
   "outputs": [
    {
     "data": {
      "text/plain": [
       "KNeighborsClassifier(n_neighbors=11)"
      ]
     },
     "execution_count": 45,
     "metadata": {},
     "output_type": "execute_result"
    }
   ],
   "source": [
    "knn"
   ]
  },
  {
   "cell_type": "code",
   "execution_count": 46,
   "id": "21e53cab",
   "metadata": {},
   "outputs": [
    {
     "data": {
      "text/plain": [
       "(1260, 5)"
      ]
     },
     "execution_count": 46,
     "metadata": {},
     "output_type": "execute_result"
    }
   ],
   "source": [
    "X_train.shape"
   ]
  },
  {
   "cell_type": "code",
   "execution_count": 47,
   "id": "ee678419",
   "metadata": {},
   "outputs": [
    {
     "data": {
      "text/plain": [
       "(540, 5)"
      ]
     },
     "execution_count": 47,
     "metadata": {},
     "output_type": "execute_result"
    }
   ],
   "source": [
    "X_test.shape"
   ]
  },
  {
   "cell_type": "code",
   "execution_count": 48,
   "id": "e7d6b9d6",
   "metadata": {},
   "outputs": [
    {
     "data": {
      "text/plain": [
       "KNeighborsClassifier(n_neighbors=11)"
      ]
     },
     "execution_count": 48,
     "metadata": {},
     "output_type": "execute_result"
    }
   ],
   "source": [
    "knn.fit(X_train,y_train)"
   ]
  },
  {
   "cell_type": "code",
   "execution_count": 49,
   "id": "6f615051",
   "metadata": {},
   "outputs": [
    {
     "data": {
      "text/plain": [
       "0.9452380952380952"
      ]
     },
     "execution_count": 49,
     "metadata": {},
     "output_type": "execute_result"
    }
   ],
   "source": [
    "knn.score(X_train,y_train)"
   ]
  },
  {
   "cell_type": "code",
   "execution_count": 50,
   "id": "167ae82e",
   "metadata": {},
   "outputs": [],
   "source": [
    "prediction=knn.predict(X_test)"
   ]
  },
  {
   "cell_type": "code",
   "execution_count": 51,
   "id": "b81ff5f3",
   "metadata": {},
   "outputs": [
    {
     "data": {
      "text/plain": [
       "array([2, 3, 2, 1, 2, 3, 1, 1, 0, 3, 0, 0, 0, 3, 3, 2, 3, 3, 2, 3, 1, 2,\n",
       "       1, 2, 3, 0, 0, 3, 0, 0, 3, 3, 2, 2, 0, 3, 0, 0, 0, 0, 0, 3, 0, 3,\n",
       "       0, 0, 3, 0, 1, 2, 1, 3, 3, 3, 2, 3, 0, 2, 2, 2, 0, 1, 2, 0, 3, 1,\n",
       "       1, 2, 1, 1, 0, 0, 3, 3, 3, 1, 0, 3, 3, 0, 0, 0, 2, 1, 3, 3, 1, 1,\n",
       "       3, 0, 3, 1, 0, 2, 2, 1, 2, 1, 2, 0, 0, 3, 1, 2, 2, 3, 0, 3, 1, 1,\n",
       "       1, 3, 1, 1, 1, 0, 0, 3, 1, 1, 3, 0, 2, 3, 2, 2, 2, 1, 2, 2, 2, 2,\n",
       "       0, 2, 3, 1, 2, 3, 3, 0, 3, 2, 3, 0, 1, 2, 1, 0, 0, 0, 3, 0, 0, 1,\n",
       "       0, 1, 2, 0, 3, 3, 3, 0, 1, 2, 3, 1, 2, 3, 2, 3, 2, 2, 2, 1, 1, 2,\n",
       "       0, 1, 1, 3, 1, 1, 2, 3, 1, 2, 3, 2, 1, 1, 2, 2, 1, 3, 1, 3, 1, 1,\n",
       "       0, 1, 1, 2, 2, 1, 2, 0, 1, 2, 0, 2, 1, 2, 0, 3, 1, 0, 0, 3, 3, 2,\n",
       "       0, 3, 3, 0, 0, 2, 0, 2, 1, 1, 2, 1, 3, 1, 2, 0, 2, 3, 2, 2, 3, 0,\n",
       "       0, 3, 3, 0, 2, 3, 2, 1, 0, 1, 2, 3, 0, 0, 1, 3, 3, 0, 1, 2, 2, 2,\n",
       "       1, 1, 3, 0, 3, 1, 1, 3, 2, 0, 0, 1, 3, 1, 1, 2, 0, 2, 3, 1, 3, 2,\n",
       "       2, 0, 1, 0, 0, 0, 0, 3, 0, 1, 3, 3, 0, 1, 2, 1, 3, 3, 3, 0, 2, 2,\n",
       "       0, 2, 1, 1, 1, 1, 3, 2, 3, 3, 2, 2, 2, 1, 0, 2, 3, 3, 2, 1, 1, 2,\n",
       "       3, 0, 0, 1, 2, 2, 3, 2, 3, 3, 2, 1, 1, 2, 1, 0, 1, 0, 1, 3, 3, 3,\n",
       "       0, 1, 0, 1, 1, 0, 1, 2, 1, 2, 1, 3, 3, 0, 1, 2, 1, 1, 0, 2, 2, 2,\n",
       "       3, 3, 3, 1, 2, 3, 1, 1, 2, 0, 1, 1, 0, 3, 3, 0, 1, 2, 1, 2, 1, 0,\n",
       "       0, 0, 3, 2, 1, 3, 1, 0, 1, 2, 0, 1, 3, 3, 2, 1, 0, 3, 3, 0, 1, 3,\n",
       "       3, 0, 0, 1, 0, 1, 0, 2, 1, 1, 0, 2, 1, 0, 2, 2, 1, 1, 0, 1, 3, 2,\n",
       "       0, 1, 1, 0, 1, 3, 0, 2, 0, 2, 3, 2, 3, 0, 1, 2, 0, 3, 0, 0, 3, 2,\n",
       "       0, 1, 1, 1, 3, 3, 0, 2, 2, 0, 0, 2, 2, 1, 1, 2, 1, 1, 0, 0, 2, 1,\n",
       "       0, 1, 3, 1, 0, 2, 1, 0, 3, 2, 3, 3, 0, 0, 2, 3, 0, 2, 1, 1, 1, 1,\n",
       "       0, 0, 2, 2, 3, 2, 1, 0, 3, 2, 3, 2, 2, 0, 3, 1, 2, 2, 1, 2, 3, 1,\n",
       "       2, 0, 2, 1, 2, 1, 0, 3, 1, 1, 1, 2], dtype=int64)"
      ]
     },
     "execution_count": 51,
     "metadata": {},
     "output_type": "execute_result"
    }
   ],
   "source": [
    "prediction"
   ]
  },
  {
   "cell_type": "code",
   "execution_count": 52,
   "id": "317c566e",
   "metadata": {},
   "outputs": [
    {
     "data": {
      "text/plain": [
       "0.9185185185185185"
      ]
     },
     "execution_count": 52,
     "metadata": {},
     "output_type": "execute_result"
    }
   ],
   "source": [
    "from sklearn.metrics import accuracy_score\n",
    "accuracy_score(y_test,prediction)"
   ]
  },
  {
   "cell_type": "code",
   "execution_count": 53,
   "id": "9d8571d5",
   "metadata": {},
   "outputs": [
    {
     "name": "stdout",
     "output_type": "stream",
     "text": [
      "              precision    recall  f1-score   support\n",
      "\n",
      "           0       0.96      0.95      0.96       132\n",
      "           1       0.91      0.93      0.92       144\n",
      "           2       0.89      0.87      0.88       138\n",
      "           3       0.91      0.92      0.92       126\n",
      "\n",
      "    accuracy                           0.92       540\n",
      "   macro avg       0.92      0.92      0.92       540\n",
      "weighted avg       0.92      0.92      0.92       540\n",
      "\n"
     ]
    }
   ],
   "source": [
    "from sklearn.metrics import classification_report\n",
    "print(classification_report(y_test, prediction))"
   ]
  },
  {
   "cell_type": "markdown",
   "id": "ee3e15e5",
   "metadata": {},
   "source": [
    "### Prediction on manully entered data :"
   ]
  },
  {
   "cell_type": "code",
   "execution_count": 54,
   "id": "a7316d06",
   "metadata": {},
   "outputs": [
    {
     "name": "stdout",
     "output_type": "stream",
     "text": [
      "Mid range\n"
     ]
    }
   ],
   "source": [
    "## now check manully entered data   \n",
    "input_data=(1940,5,588,1809,820)\n",
    "\n",
    "# 733,63,950,1739,984 ====0\n",
    "# 1940,5,588,1809,820 ===1\n",
    "\n",
    "#changiong the input data to a numpy array \n",
    "input_data_as_nparray = np.asarray(input_data)\n",
    "\n",
    "# reshape the data as we are predicting the label for only one instance \n",
    "input_data_reshaped = input_data_as_nparray.reshape(1,-1)\n",
    "\n",
    "prediction = knn.predict(input_data_reshaped)\n",
    "\n",
    "\n",
    "if prediction == 0:\n",
    "    print(\"Low Budget \")\n",
    "elif prediction == 1:\n",
    "    print(\"Mid range\")\n",
    "elif prediction == 2:\n",
    "    print('High range')\n",
    "else:\n",
    "    print('Flagship')"
   ]
  },
  {
   "cell_type": "markdown",
   "id": "6f2ef4ec",
   "metadata": {},
   "source": [
    "## Pickle file"
   ]
  },
  {
   "cell_type": "code",
   "execution_count": 55,
   "id": "a2ebfbf3",
   "metadata": {},
   "outputs": [],
   "source": [
    "final_knn =KNeighborsClassifier()"
   ]
  },
  {
   "cell_type": "code",
   "execution_count": 56,
   "id": "90f72e87",
   "metadata": {},
   "outputs": [
    {
     "data": {
      "text/plain": [
       "KNeighborsClassifier()"
      ]
     },
     "execution_count": 56,
     "metadata": {},
     "output_type": "execute_result"
    }
   ],
   "source": [
    "final_knn.fit(X,y)\n"
   ]
  },
  {
   "cell_type": "code",
   "execution_count": 57,
   "id": "1681ef8b",
   "metadata": {},
   "outputs": [],
   "source": [
    "import pickle"
   ]
  },
  {
   "cell_type": "code",
   "execution_count": 58,
   "id": "93a9d543",
   "metadata": {},
   "outputs": [],
   "source": [
    "pickle.dump(final_knn, open('mobile.pkl','wb'))"
   ]
  },
  {
   "cell_type": "code",
   "execution_count": 59,
   "id": "030e47e0",
   "metadata": {},
   "outputs": [],
   "source": [
    "loadedModel = pickle.load(open('mobile.pkl','rb'))"
   ]
  },
  {
   "cell_type": "markdown",
   "id": "118baea6",
   "metadata": {},
   "source": [
    "### Attributes In this data :\n",
    "\n",
    "1.px-height : Pixel resolution Height<br>\n",
    "2.px-width : Pixel Resolution Width<br>\n",
    "3.ram : Random Access Memory in Megabytes<br> \n",
    "4.int-memory : Internal Memory in Gigabytes<br>\n",
    "5.battery_power : Total energy a battery can store in one-time measured in mah<br>\n",
    "6.blue:has Bluetooth or not<br>\n",
    "7.clock_speed : speed at which microprocessor executes instructions<br>\n",
    "8.dual-sim : has Dual sim support or not<br>\n",
    "9.fc : front camera megapixels<br>\n",
    "10.four_g : Has 4G or not<br>\n",
    "11.m_dep:Mobile Depth in cm<br>\n",
    "12.mobile_wt : weight of mobile<br>\n",
    "13.n-cores:Number of Cores of Processors<br>\n",
    "14.pc:Primary camera Mega pixels<br>\n",
    "15.sc_h:Screen Height of Mobile in cm<br>\n",
    "16.sc_w:Screen width of mobile in cm<br>\n",
    "17.talk_time: Longest time that a single battery charge will last when u are<br>\n",
    "18.three_g:Has 3G or not<br>\n",
    "19.touch_screen:Has touch screen or not<br>\n",
    "20.wifi:Has wifi or not<br>"
   ]
  },
  {
   "cell_type": "code",
   "execution_count": null,
   "id": "40e4b748",
   "metadata": {},
   "outputs": [],
   "source": []
  }
 ],
 "metadata": {
  "kernelspec": {
   "display_name": "Python 3 (ipykernel)",
   "language": "python",
   "name": "python3"
  },
  "language_info": {
   "codemirror_mode": {
    "name": "ipython",
    "version": 3
   },
   "file_extension": ".py",
   "mimetype": "text/x-python",
   "name": "python",
   "nbconvert_exporter": "python",
   "pygments_lexer": "ipython3",
   "version": "3.9.4"
  }
 },
 "nbformat": 4,
 "nbformat_minor": 5
}
